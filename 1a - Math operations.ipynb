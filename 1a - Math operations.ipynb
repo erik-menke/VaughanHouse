{
 "cells": [
  {
   "cell_type": "markdown",
   "metadata": {},
   "source": [
    "This notebook is the first in a series of jupyter notebooks intended to introduce students to programing in python. I designed it for the Vaughan house Living Learning Community at UC Merced. It focuses on basic math functions in python 3."
   ]
  },
  {
   "cell_type": "markdown",
   "metadata": {},
   "source": [
    "We're going to start with some simple math. First, addition and subtraction. In the cells below I'm doing some simple addition and subtraction. A useful thing to know about python is that any line that starts with a \"#\" will be ignored by python as it evaluates a cell. This is what we refer to as a comment, and can be used to both describe the code you are writing, and removing lines from evaluation when you are trying to fix errors (\"debugging\")."
   ]
  },
  {
   "cell_type": "code",
   "execution_count": 1,
   "metadata": {},
   "outputs": [
    {
     "data": {
      "text/plain": [
       "10"
      ]
     },
     "execution_count": 1,
     "metadata": {},
     "output_type": "execute_result"
    }
   ],
   "source": [
    "# what's 3 + 7?\n",
    "3+7"
   ]
  },
  {
   "cell_type": "code",
   "execution_count": 2,
   "metadata": {},
   "outputs": [
    {
     "data": {
      "text/plain": [
       "-4"
      ]
     },
     "execution_count": 2,
     "metadata": {},
     "output_type": "execute_result"
    }
   ],
   "source": [
    "# what's 3 - 7?\n",
    "3-7"
   ]
  },
  {
   "cell_type": "code",
   "execution_count": 3,
   "metadata": {},
   "outputs": [
    {
     "data": {
      "text/plain": [
       "8"
      ]
     },
     "execution_count": 3,
     "metadata": {},
     "output_type": "execute_result"
    }
   ],
   "source": [
    "# what's 13 - 3 + 5 + 1 - 8?\n",
    "13-3+5+1-8"
   ]
  },
  {
   "cell_type": "code",
   "execution_count": 4,
   "metadata": {},
   "outputs": [
    {
     "data": {
      "text/plain": [
       "48"
      ]
     },
     "execution_count": 4,
     "metadata": {},
     "output_type": "execute_result"
    }
   ],
   "source": [
    "# what's 21-4?\n",
    "21 - 4\n",
    "\n",
    "# what's 17 + 31?\n",
    "17 + 31"
   ]
  },
  {
   "cell_type": "markdown",
   "metadata": {},
   "source": [
    "You'll notice that the last cell, above, only outputs the second math line (17+31), and we don't see the output from the first math line (21-4). Jupyter will only show the output for the last line in a cell, even though it evaluates the entire cell. If we want to see the output for a line that isn't the last line, we need to use the print() function:"
   ]
  },
  {
   "cell_type": "code",
   "execution_count": 5,
   "metadata": {},
   "outputs": [
    {
     "name": "stdout",
     "output_type": "stream",
     "text": [
      "17\n",
      "48\n"
     ]
    }
   ],
   "source": [
    "# what's 21-4?\n",
    "print(21-4)\n",
    "\n",
    "# what's 17 + 31?\n",
    "print(17+31)\n"
   ]
  },
  {
   "cell_type": "markdown",
   "metadata": {},
   "source": [
    "Now, here's some multiplication and division."
   ]
  },
  {
   "cell_type": "code",
   "execution_count": 6,
   "metadata": {},
   "outputs": [
    {
     "data": {
      "text/plain": [
       "24"
      ]
     },
     "execution_count": 6,
     "metadata": {},
     "output_type": "execute_result"
    }
   ],
   "source": [
    "# what's 3x8?\n",
    "3 * 8"
   ]
  },
  {
   "cell_type": "code",
   "execution_count": 7,
   "metadata": {},
   "outputs": [
    {
     "data": {
      "text/plain": [
       "4.25"
      ]
     },
     "execution_count": 7,
     "metadata": {},
     "output_type": "execute_result"
    }
   ],
   "source": [
    "# what's 17/4?\n",
    "17 / 4"
   ]
  },
  {
   "cell_type": "code",
   "execution_count": 8,
   "metadata": {},
   "outputs": [
    {
     "data": {
      "text/plain": [
       "3.142857142857143"
      ]
     },
     "execution_count": 8,
     "metadata": {},
     "output_type": "execute_result"
    }
   ],
   "source": [
    "# what's 22/7?\n",
    "22 / 7"
   ]
  },
  {
   "cell_type": "markdown",
   "metadata": {},
   "source": [
    "Because $\\frac{22}{7}$ is irrational, it will continue forever, so python cuts it off after 15 digits. However, I can use another built-in function, the format() function, combined with the print() to change how many decimals are shown."
   ]
  },
  {
   "cell_type": "code",
   "execution_count": 9,
   "metadata": {},
   "outputs": [
    {
     "name": "stdout",
     "output_type": "stream",
     "text": [
      "3.14\n",
      "3.1429\n"
     ]
    }
   ],
   "source": [
    "# what is 22/7, keeping just 3 digits?\n",
    "print(\"{:.3}\".format(22/7))\n",
    "\n",
    "# what is 22/7, keeping 5 digits?\n",
    "print(\"{:.5}\".format(22/7))"
   ]
  },
  {
   "cell_type": "markdown",
   "metadata": {},
   "source": [
    "The format() function will also let me change how the number is shown in other ways. For example, I can use it to show a number in scientific notation by adding an 'E' inside the braces."
   ]
  },
  {
   "cell_type": "code",
   "execution_count": 10,
   "metadata": {},
   "outputs": [
    {
     "name": "stdout",
     "output_type": "stream",
     "text": [
      "2.5571E+01\n"
     ]
    }
   ],
   "source": [
    "# what is 179/7, keeping 5 digits?\n",
    "print(\"{:.4E}\".format(179/7))"
   ]
  },
  {
   "cell_type": "markdown",
   "metadata": {},
   "source": [
    "One of the best ways to learn how to do things in python is by using google and reading about various functions. For example, I found a good description of the format() function at the [Geeks for geeks](https://www.geeksforgeeks.org/python-format-function/) website."
   ]
  },
  {
   "cell_type": "markdown",
   "metadata": {},
   "source": [
    "Python also allows for other math operations that you probably haven't used much, but are very useful for programming. The three examples we'll use are powers, modulo, and integer division. First, let's take a look at powers, which are almost as straightforward as addition, subtraction, multiplication, and division."
   ]
  },
  {
   "cell_type": "code",
   "execution_count": 11,
   "metadata": {},
   "outputs": [
    {
     "data": {
      "text/plain": [
       "9"
      ]
     },
     "execution_count": 11,
     "metadata": {},
     "output_type": "execute_result"
    }
   ],
   "source": [
    "# what's 3^2?\n",
    "3 ** 2"
   ]
  },
  {
   "cell_type": "code",
   "execution_count": 12,
   "metadata": {},
   "outputs": [
    {
     "data": {
      "text/plain": [
       "13230.930968301243"
      ]
     },
     "execution_count": 12,
     "metadata": {},
     "output_type": "execute_result"
    }
   ],
   "source": [
    "# what's 13^3.7?\n",
    "13 ** 3.7"
   ]
  },
  {
   "cell_type": "markdown",
   "metadata": {},
   "source": [
    "What about modulo and integer division? First, I should describe what those both are, since they are much less common than any of the math operations we've seen so far. When you first started learning division in school you probably didn't worry about fractions or decimals, but instead worried about remainders. Integer division and modulo operators are essentially this type of division. For example, instead of saying $\\frac{22}{7}$=3.1429..., I can instead say that $\\frac{22}{7}$=3r1 (3 with a remainder of 1). Integer division (the // operator) will give me the 3, while the modulo operator (represented by the % symbol) will give me the 1:"
   ]
  },
  {
   "cell_type": "code",
   "execution_count": 13,
   "metadata": {},
   "outputs": [
    {
     "data": {
      "text/plain": [
       "3"
      ]
     },
     "execution_count": 13,
     "metadata": {},
     "output_type": "execute_result"
    }
   ],
   "source": [
    "# how many times will 7 go into 22?\n",
    "22 // 7"
   ]
  },
  {
   "cell_type": "code",
   "execution_count": 14,
   "metadata": {},
   "outputs": [
    {
     "data": {
      "text/plain": [
       "1"
      ]
     },
     "execution_count": 14,
     "metadata": {},
     "output_type": "execute_result"
    }
   ],
   "source": [
    "# what's the remainder when I divide 22 by 7?\n",
    "22 % 7"
   ]
  },
  {
   "cell_type": "code",
   "execution_count": 15,
   "metadata": {},
   "outputs": [
    {
     "name": "stdout",
     "output_type": "stream",
     "text": [
      "4.0\n",
      "2.5\n"
     ]
    }
   ],
   "source": [
    "# how many times will 3.1 go into 14.9?\n",
    "print(14.9 // 3.1)\n",
    "\n",
    "# what's the remainder when I divide 14.9 by 3.1?\n",
    "print(14.9 % 3.1)"
   ]
  },
  {
   "cell_type": "markdown",
   "metadata": {},
   "source": [
    "Those are pretty much all of the math operators built in to python. But what about other operations that you might want to use, such as square roots or logarithms? For those, we need to add an extra library of code into python. One of the more common and useful libraries is the numpy library, which contains implementations of many useful functions, such as natural logarithms, base-10 logarithms, and square roots. To add this to your notebook you use the \"import\" command:"
   ]
  },
  {
   "cell_type": "code",
   "execution_count": 16,
   "metadata": {
    "collapsed": true
   },
   "outputs": [],
   "source": [
    "import numpy as np"
   ]
  },
  {
   "cell_type": "markdown",
   "metadata": {},
   "source": [
    "Now I can use all of numpy's features! For example, here are some useful functions in action:"
   ]
  },
  {
   "cell_type": "code",
   "execution_count": 17,
   "metadata": {},
   "outputs": [
    {
     "name": "stdout",
     "output_type": "stream",
     "text": [
      "3.60555127546\n",
      "5.02847521222\n",
      "2.50127703985\n"
     ]
    }
   ],
   "source": [
    "# what's the square root of 13?\n",
    "print(np.sqrt(13))\n",
    "\n",
    "# what's the natural log of 152.7?\n",
    "print(np.log(152.7))\n",
    "\n",
    "# what's the base-10 log of 317.159?\n",
    "print(np.log10(317.159))"
   ]
  },
  {
   "cell_type": "markdown",
   "metadata": {},
   "source": [
    "Finally, numpy also has common constants, such as $\\pi$ and $e$, built in:"
   ]
  },
  {
   "cell_type": "code",
   "execution_count": 18,
   "metadata": {},
   "outputs": [
    {
     "name": "stdout",
     "output_type": "stream",
     "text": [
      "The first 10 digits of pi are 3.141592654\n",
      "The first 7 digits of e are 2.718282\n",
      "The square root of pi is 1.772453851\n"
     ]
    }
   ],
   "source": [
    "print(\"The first 10 digits of pi are {:.10}\".format(np.pi))\n",
    "print(\"The first 7 digits of e are {:.7}\".format(np.e))\n",
    "print(\"The square root of pi is {:.10}\".format(np.sqrt(np.pi)))\n"
   ]
  }
 ],
 "metadata": {
  "kernelspec": {
   "display_name": "Python 3",
   "language": "python",
   "name": "python3"
  },
  "language_info": {
   "codemirror_mode": {
    "name": "ipython",
    "version": 3
   },
   "file_extension": ".py",
   "mimetype": "text/x-python",
   "name": "python",
   "nbconvert_exporter": "python",
   "pygments_lexer": "ipython3",
   "version": "3.6.1"
  }
 },
 "nbformat": 4,
 "nbformat_minor": 2
}
