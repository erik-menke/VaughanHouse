{
 "cells": [
  {
   "cell_type": "markdown",
   "metadata": {},
   "source": [
    "This notebook is the second in a series of jupyter notebooks intended to introduce students to programing in python. I designed it for the Vaughan house Living Learning Community at UC Merced. It focuses on variables, condition testing (if...else statements), and functions in python 3. Before getting into any of that, I will first load the numpy library, because it will be used later in this notebook."
   ]
  },
  {
   "cell_type": "code",
   "execution_count": 1,
   "metadata": {
    "collapsed": true
   },
   "outputs": [],
   "source": [
    "import numpy as np"
   ]
  },
  {
   "cell_type": "markdown",
   "metadata": {},
   "source": [
    "Let's start with variables. Variables are containers for storing data, and consist of two elements. The first element is a name for the variable and it's usually best to pick a name that tells you something about the data the variable will store. The second element is the actual data that the variable is storing. In python variables are assigned with the syntax name = data (and nearly all programming languages use similar syntax). For example, here's how I would create a variable named \"myPi\" and set it equal to 3.14:"
   ]
  },
  {
   "cell_type": "code",
   "execution_count": 2,
   "metadata": {
    "collapsed": true
   },
   "outputs": [],
   "source": [
    "myPi = 3.14\n"
   ]
  },
  {
   "cell_type": "markdown",
   "metadata": {},
   "source": [
    "You'll notice that there is no output associated with this command, which is the expected behavior. However, now I can use \"myPi\" in functions and as it's own number:"
   ]
  },
  {
   "cell_type": "code",
   "execution_count": 3,
   "metadata": {},
   "outputs": [
    {
     "data": {
      "text/plain": [
       "9.8596"
      ]
     },
     "execution_count": 3,
     "metadata": {},
     "output_type": "execute_result"
    }
   ],
   "source": [
    "# what is myPi ** 2?\n",
    "myPi ** 2\n"
   ]
  },
  {
   "cell_type": "code",
   "execution_count": 4,
   "metadata": {},
   "outputs": [
    {
     "data": {
      "text/plain": [
       "1.144222799920162"
      ]
     },
     "execution_count": 4,
     "metadata": {},
     "output_type": "execute_result"
    }
   ],
   "source": [
    "# what is the natural log of myPi?\n",
    "np.log(myPi)\n"
   ]
  },
  {
   "cell_type": "code",
   "execution_count": 5,
   "metadata": {},
   "outputs": [
    {
     "name": "stdout",
     "output_type": "stream",
     "text": [
      "3.14\n"
     ]
    }
   ],
   "source": [
    "# what data is stored in myPi?\n",
    "print(myPi)\n"
   ]
  },
  {
   "cell_type": "markdown",
   "metadata": {},
   "source": [
    "At first glance this doesn't seem very useful. Typing \"myPi\" and \"3.14\" are basically equivalent, and so why do I need a variable to store that data? For the example above, there's no inherent reason you would want to use a variable for that. However, consider a circle of radius r. You know that the circumfrence of the circle is 2$\\pi$r, and the area of the circle is $\\pi$r$^{2}$, and so you would like to set up the math so someone can simply give you an r value and you tell them the circumfrence and the area of the circle. There's no way to know before hand what the value of r will be, so you can't do the math until you have r. For example:"
   ]
  },
  {
   "cell_type": "code",
   "execution_count": 6,
   "metadata": {},
   "outputs": [
    {
     "name": "stdout",
     "output_type": "stream",
     "text": [
      "The circumfrence of the circle is 8.77\n",
      "The area of the circle is 6.12\n"
     ]
    }
   ],
   "source": [
    "sampleRadius = 1.39523\n",
    "print(\"The circumfrence of the circle is {:.3}\".format(sampleRadius * 2 * np.pi))\n",
    "print(\"The area of the circle is {:.3}\".format(np.pi * sampleRadius ** 2))\n",
    "      "
   ]
  },
  {
   "cell_type": "markdown",
   "metadata": {},
   "source": [
    "Now I can change the sampleRadius variable to be whatever I want, and the two print statements will correctly print the circumfrence and area of the circle, and I don't have to worry about changing the data in multiple places! Give it a shot. Change the value of the sampleRadius variable to some other value and run the cell."
   ]
  },
  {
   "cell_type": "markdown",
   "metadata": {
    "collapsed": true
   },
   "source": [
    "One very important use for variables is to check their value, and do different things depending on what that value is. You do this all the time in real life. For example, you might look outside before leaving the house telling yourself \"if it's raining, I'll wear a coat. If it's nice, I'll wear shorts\". Computers can do the same thing using conditional statements. In nearly every programming language these are known as \"if\" and \"if...else\" statements, where the computer does something in one case, and then maybe something else in a different case. But how does the computer decide? Before we get into if statements, let's first go over booleans."
   ]
  },
  {
   "cell_type": "markdown",
   "metadata": {},
   "source": [
    "Booleans are a common datatype with two allowed values. They can either be \"False\" (or, equivalently, 0) or \"True\" (or, equivalently, 1). When you compare two values the result will be a boolean, and the way we compare values is similar to what you have seen in algebra, such as \"a is equal to b\", \"a is greater than b\", and \"a is less than or equal to b\". The commands for these comparisons in python is:  \n",
    "\n",
    "  * == (for checking if a value is equal to another)\n",
    "  * \\>= (for checking if a value is greater than or equal to another)\n",
    "  * \\> (for checking if a value is greater than another)\n",
    "  * \\<= (for checking if a value is less than or equal to another)\n",
    "  * \\< (for checking if a value is less than another)\n",
    "  * != (for checking if a value is *not* equal to another)\n",
    "  "
   ]
  },
  {
   "cell_type": "code",
   "execution_count": 7,
   "metadata": {},
   "outputs": [
    {
     "data": {
      "text/plain": [
       "False"
      ]
     },
     "execution_count": 7,
     "metadata": {},
     "output_type": "execute_result"
    }
   ],
   "source": [
    "# is myPi equal to 3?\n",
    "myPi == 3"
   ]
  },
  {
   "cell_type": "code",
   "execution_count": 8,
   "metadata": {},
   "outputs": [
    {
     "data": {
      "text/plain": [
       "False"
      ]
     },
     "execution_count": 8,
     "metadata": {},
     "output_type": "execute_result"
    }
   ],
   "source": [
    "# is 3 equal to myPi?\n",
    "3 == myPi"
   ]
  },
  {
   "cell_type": "code",
   "execution_count": 9,
   "metadata": {},
   "outputs": [
    {
     "data": {
      "text/plain": [
       "False"
      ]
     },
     "execution_count": 9,
     "metadata": {},
     "output_type": "execute_result"
    }
   ],
   "source": [
    "# is myPi less than 3?\n",
    "myPi < 3"
   ]
  },
  {
   "cell_type": "code",
   "execution_count": 10,
   "metadata": {},
   "outputs": [
    {
     "data": {
      "text/plain": [
       "True"
      ]
     },
     "execution_count": 10,
     "metadata": {},
     "output_type": "execute_result"
    }
   ],
   "source": [
    "# is myPi greater than or equal to 3?\n",
    "myPi >= 3"
   ]
  },
  {
   "cell_type": "code",
   "execution_count": 11,
   "metadata": {},
   "outputs": [
    {
     "data": {
      "text/plain": [
       "True"
      ]
     },
     "execution_count": 11,
     "metadata": {},
     "output_type": "execute_result"
    }
   ],
   "source": [
    "# is myPi not equal to 3?\n",
    "myPi != 3"
   ]
  },
  {
   "cell_type": "markdown",
   "metadata": {},
   "source": [
    "So, now that we know how to compare values, how do we use them for if statements? In python, the syntax for if statements is \"if (boolean) :\", and then every line below that is indented runs only if the boolean value is true. Here are some examples:"
   ]
  },
  {
   "cell_type": "code",
   "execution_count": 12,
   "metadata": {},
   "outputs": [
    {
     "name": "stdout",
     "output_type": "stream",
     "text": [
      "The myPi variable doesn't equal 3!\n",
      "The myPi variable is greater than 3!\n"
     ]
    }
   ],
   "source": [
    "if (myPi == 3):\n",
    "    print(\"The myPi variable equals 3!\")\n",
    "    \n",
    "if (myPi != 3):\n",
    "    print(\"The myPi variable doesn't equal 3!\")\n",
    "    \n",
    "if (myPi > 3):\n",
    "    print(\"The myPi variable is greater than 3!\")\n",
    "    \n",
    "if (myPi <= 3):\n",
    "    print(\"The myPi variable is less than or equal to 3!\")\n",
    "    "
   ]
  },
  {
   "cell_type": "markdown",
   "metadata": {},
   "source": [
    "Some of these if statements are a little redundant, though. For example, if the first statement above is true, then the second has to be false, and visa-versa. I can combine these using an if...else format, like this:"
   ]
  },
  {
   "cell_type": "code",
   "execution_count": 13,
   "metadata": {},
   "outputs": [
    {
     "name": "stdout",
     "output_type": "stream",
     "text": [
      "The myPi variable doesn't equal 3!\n"
     ]
    }
   ],
   "source": [
    "if (myPi == 3):\n",
    "    print(\"The myPi variable equals 3!\")\n",
    "else:\n",
    "    print(\"The myPi variable doesn't equal 3!\")"
   ]
  },
  {
   "cell_type": "markdown",
   "metadata": {},
   "source": [
    "Finally, I can combine more multiple if statements using python's \"elif\" command. For example:"
   ]
  },
  {
   "cell_type": "code",
   "execution_count": 14,
   "metadata": {},
   "outputs": [
    {
     "name": "stdout",
     "output_type": "stream",
     "text": [
      "The myPi variable is greater than 3!\n"
     ]
    }
   ],
   "source": [
    "if (myPi == 3):\n",
    "    print(\"The myPi variable equals 3!\")\n",
    "elif (myPi < 3):\n",
    "    print(\"The myPi variable is less than 3!\")\n",
    "elif (myPi > 3):\n",
    "    print(\"The myPi variable is greater than 3!\")\n",
    "else:\n",
    "    print(\"You should never see this, there's been a horrible mistake\")\n",
    "    "
   ]
  },
  {
   "cell_type": "markdown",
   "metadata": {},
   "source": [
    "Let's now discuss functions, the last bit of material for this notebook. A function is a self-contained set of instructions that takes some data, manipulates it in some way, then returns some output, and is very useful if you will be asking the computer program to do the same thing many different times. To create a function in python, you use the \"def\" keyword followed by the name of the function and whatever inputs it takes, followed by a :. Then, every indented line that follows is part of the function, and you use python's \"return\" keyword to give back the data after you've done stuff to it. For example, let's say I want a function that will calculate the volume of a sphere using it's radius as the input. Remembering that, for a sphere, V = $\\frac{4}{3} \\pi$r$^3$, we can do the following:"
   ]
  },
  {
   "cell_type": "code",
   "execution_count": 15,
   "metadata": {
    "collapsed": true
   },
   "outputs": [],
   "source": [
    "def sphereVolume(radius):\n",
    "    return 4/3 * np.pi * radius ** 3\n"
   ]
  },
  {
   "cell_type": "code",
   "execution_count": 16,
   "metadata": {},
   "outputs": [
    {
     "data": {
      "text/plain": [
       "4.1887902047863905"
      ]
     },
     "execution_count": 16,
     "metadata": {},
     "output_type": "execute_result"
    }
   ],
   "source": [
    "#what's the volume for a sphere with radius=1?\n",
    "sphereVolume(1)"
   ]
  },
  {
   "cell_type": "code",
   "execution_count": 17,
   "metadata": {},
   "outputs": [
    {
     "data": {
      "text/plain": [
       "113.09733552923254"
      ]
     },
     "execution_count": 17,
     "metadata": {},
     "output_type": "execute_result"
    }
   ],
   "source": [
    "#what's the volume for a sphere with radius=3?\n",
    "sphereVolume(3)"
   ]
  },
  {
   "cell_type": "markdown",
   "metadata": {},
   "source": [
    "Ok, if all of that makes sense, move on to the 2b notebook to practice!"
   ]
  },
  {
   "cell_type": "code",
   "execution_count": null,
   "metadata": {
    "collapsed": true
   },
   "outputs": [],
   "source": []
  }
 ],
 "metadata": {
  "kernelspec": {
   "display_name": "Python 3",
   "language": "python",
   "name": "python3"
  },
  "language_info": {
   "codemirror_mode": {
    "name": "ipython",
    "version": 3
   },
   "file_extension": ".py",
   "mimetype": "text/x-python",
   "name": "python",
   "nbconvert_exporter": "python",
   "pygments_lexer": "ipython3",
   "version": "3.6.1"
  }
 },
 "nbformat": 4,
 "nbformat_minor": 2
}
