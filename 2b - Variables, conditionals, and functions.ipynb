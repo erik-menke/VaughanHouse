{
 "cells": [
  {
   "cell_type": "markdown",
   "metadata": {},
   "source": [
    "In this notebook you are going to write some functions. I would recommend loading the numpy library, since it will be useful for one of the functions."
   ]
  },
  {
   "cell_type": "code",
   "execution_count": null,
   "metadata": {
    "collapsed": true
   },
   "outputs": [],
   "source": []
  },
  {
   "cell_type": "markdown",
   "metadata": {},
   "source": [
    "An example of a useful function is a quadratic formula, which finds the roots to a second order polynomial using the function f($a,b,c$) = $\\frac{-b \\pm \\sqrt{b^{2} - 4ac}}{2a}$, where a, b, and c are the coefficients in the formula $a x^{2} + b x + c = 0$.\n",
    "\n",
    "Below, I've started to define a function called quad_solve(), which takes three inputs, and told the function to return the two roots, called sol1 and sol2. Your task is to fill in the rest of the function. For this, you will need tell the function what the necessary math is. To account for the $\\pm$ you will need to have two lines of code, one with the plus and one with the minus!"
   ]
  },
  {
   "cell_type": "code",
   "execution_count": null,
   "metadata": {
    "collapsed": true
   },
   "outputs": [],
   "source": [
    "def quad_solve(a, b, c):\n",
    "\n",
    "    return [sol1,sol2]\n"
   ]
  },
  {
   "cell_type": "markdown",
   "metadata": {},
   "source": [
    "If you've written your function correctly, the python code below will print out the two roots for the function $x^2$ - 1.82x10$^{-10}$ = 0. The two roots for this are $\\pm$1.345x10$^{-5}$."
   ]
  },
  {
   "cell_type": "code",
   "execution_count": null,
   "metadata": {
    "collapsed": true
   },
   "outputs": [],
   "source": [
    "solutions = quad_solve(1,0,-1.82E-10)\n",
    "print(\"The roots are {:.2E} and {:.2E}\".format(solutions[0], solutions[1]))\n"
   ]
  },
  {
   "cell_type": "markdown",
   "metadata": {},
   "source": [
    "Once you get the quad_solve() function working correctly, try running the code below to see what happens."
   ]
  },
  {
   "cell_type": "code",
   "execution_count": null,
   "metadata": {
    "collapsed": true
   },
   "outputs": [],
   "source": [
    "quad_solve(1,0,1)\n"
   ]
  },
  {
   "cell_type": "markdown",
   "metadata": {},
   "source": [
    "The problem is that the square root of a negative number is imaginary, and numpy doesn't know how handle that (at least, by default), so it returns an error. There are a few things we can do to handle those cases, but the simplest is to make sure that our number is positive before we take the square root. This seems like a perfect case for an if...else statement!\n",
    "\n",
    "In the box below write an if...else statement that checks if the number we are trying to square root is positive or negative. If it's positive, it takes the square root, and if it's negative it prints out a statement saying the roots are imaginary. Make sure it works for the 1, 0, 1 case above, but also test it with a few values to make sure it works as you expect!"
   ]
  },
  {
   "cell_type": "code",
   "execution_count": null,
   "metadata": {
    "collapsed": true
   },
   "outputs": [],
   "source": []
  },
  {
   "cell_type": "markdown",
   "metadata": {},
   "source": [
    "Now that you have that working, rewrite your quad_solve() function, renaming it as quad_solve2(), and incorporate the if...else statement to make sure you don't take the square root of a negative number. Make sure to test it with a few values, especially ones you know give imaginary roots!"
   ]
  },
  {
   "cell_type": "code",
   "execution_count": null,
   "metadata": {
    "collapsed": true
   },
   "outputs": [],
   "source": []
  }
 ],
 "metadata": {
  "kernelspec": {
   "display_name": "Python 3",
   "language": "python",
   "name": "python3"
  },
  "language_info": {
   "codemirror_mode": {
    "name": "ipython",
    "version": 3
   },
   "file_extension": ".py",
   "mimetype": "text/x-python",
   "name": "python",
   "nbconvert_exporter": "python",
   "pygments_lexer": "ipython3",
   "version": "3.6.1"
  }
 },
 "nbformat": 4,
 "nbformat_minor": 2
}
